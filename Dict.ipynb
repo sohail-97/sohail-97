{
  "nbformat": 4,
  "nbformat_minor": 0,
  "metadata": {
    "colab": {
      "name": "Dict.ipynb",
      "provenance": [],
      "authorship_tag": "ABX9TyNPGoRuYdp6i2rpXohohHEw",
      "include_colab_link": true
    },
    "kernelspec": {
      "name": "python3",
      "display_name": "Python 3"
    },
    "language_info": {
      "name": "python"
    }
  },
  "cells": [
    {
      "cell_type": "markdown",
      "metadata": {
        "id": "view-in-github",
        "colab_type": "text"
      },
      "source": [
        "<a href=\"https://colab.research.google.com/github/sohail-97/sohail-97/blob/main/Dict.ipynb\" target=\"_parent\"><img src=\"https://colab.research.google.com/assets/colab-badge.svg\" alt=\"Open In Colab\"/></a>"
      ]
    },
    {
      "cell_type": "code",
      "metadata": {
        "colab": {
          "base_uri": "https://localhost:8080/"
        },
        "id": "BMzUo0o96_K_",
        "outputId": "adabcfed-9792-4e6b-985d-b79296ed334a"
      },
      "source": [
        "mine = {'Audi':'RS5', 'BMW':'M5','Merc':'C43AMG','Volkswagen':'T-roc', 'Skoda':'Kushaq'}\n",
        "mine['Audi'] = mine['Audi']+',Q5'\n",
        "print(mine)"
      ],
      "execution_count": 7,
      "outputs": [
        {
          "output_type": "stream",
          "text": [
            "{'Audi': 'RS5,Q5', 'BMW': 'M5', 'Merc': 'C43AMG', 'Volkswagen': 'T-roc', 'Skoda': 'Kushaq'}\n"
          ],
          "name": "stdout"
        }
      ]
    },
    {
      "cell_type": "code",
      "metadata": {
        "colab": {
          "base_uri": "https://localhost:8080/"
        },
        "id": "MggeDMj38u5J",
        "outputId": "d0a0681f-5d88-4725-b140-986938ccf3bd"
      },
      "source": [
        "mine['Kia'] = 'Stinger'\n",
        "print(mine)"
      ],
      "execution_count": 8,
      "outputs": [
        {
          "output_type": "stream",
          "text": [
            "{'Audi': 'RS5,Q5', 'BMW': 'M5', 'Merc': 'C43AMG', 'Volkswagen': 'T-roc', 'Skoda': 'Kushaq', 'Kia': 'Stinger'}\n"
          ],
          "name": "stdout"
        }
      ]
    },
    {
      "cell_type": "code",
      "metadata": {
        "colab": {
          "base_uri": "https://localhost:8080/"
        },
        "id": "YiP536ew-6Yb",
        "outputId": "42a597b5-1828-43ab-ac45-99e0c246dc51"
      },
      "source": [
        "print(mine['Audi'])"
      ],
      "execution_count": 9,
      "outputs": [
        {
          "output_type": "stream",
          "text": [
            "RS5,Q5\n"
          ],
          "name": "stdout"
        }
      ]
    },
    {
      "cell_type": "code",
      "metadata": {
        "colab": {
          "base_uri": "https://localhost:8080/"
        },
        "id": "2Oyj1KGl_Ea_",
        "outputId": "399e0176-a5e6-417e-eff3-86148ee37bac"
      },
      "source": [
        "mine['Ferrari'] = 'California'\n",
        "mine"
      ],
      "execution_count": 10,
      "outputs": [
        {
          "output_type": "execute_result",
          "data": {
            "text/plain": [
              "{'Audi': 'RS5,Q5',\n",
              " 'BMW': 'M5',\n",
              " 'Ferrari': 'California',\n",
              " 'Kia': 'Stinger',\n",
              " 'Merc': 'C43AMG',\n",
              " 'Skoda': 'Kushaq',\n",
              " 'Volkswagen': 'T-roc'}"
            ]
          },
          "metadata": {
            "tags": []
          },
          "execution_count": 10
        }
      ]
    },
    {
      "cell_type": "code",
      "metadata": {
        "colab": {
          "base_uri": "https://localhost:8080/"
        },
        "id": "cYyO_YtP_2pq",
        "outputId": "28dc602e-891d-4fce-85fc-6be5555491b5"
      },
      "source": [
        "mine['Merc'] = mine['Merc']+',GLC43AMG'\n",
        "mine"
      ],
      "execution_count": 15,
      "outputs": [
        {
          "output_type": "execute_result",
          "data": {
            "text/plain": [
              "{'Audi': 'RS5,Q5',\n",
              " 'BMW': 'M5',\n",
              " 'Ferrari': 'California',\n",
              " 'Kia': 'Stinger',\n",
              " 'Merc': 'C43AMG,GLC43AMG',\n",
              " 'Skoda': 'Kushaq',\n",
              " 'Volkswagen': 'T-roc'}"
            ]
          },
          "metadata": {
            "tags": []
          },
          "execution_count": 15
        }
      ]
    },
    {
      "cell_type": "code",
      "metadata": {
        "colab": {
          "base_uri": "https://localhost:8080/"
        },
        "id": "NCmjelBnAPNs",
        "outputId": "40bfec44-765b-4218-f8ca-d15ecd48c55d"
      },
      "source": [
        "mine['Volvo']='XC60'\n",
        "mine"
      ],
      "execution_count": 16,
      "outputs": [
        {
          "output_type": "execute_result",
          "data": {
            "text/plain": [
              "{'Audi': 'RS5,Q5',\n",
              " 'BMW': 'M5',\n",
              " 'Ferrari': 'California',\n",
              " 'Kia': 'Stinger',\n",
              " 'Merc': 'C43AMG,GLC43AMG',\n",
              " 'Skoda': 'Kushaq',\n",
              " 'Volkswagen': 'T-roc',\n",
              " 'Volvo': 'XC60'}"
            ]
          },
          "metadata": {
            "tags": []
          },
          "execution_count": 16
        }
      ]
    },
    {
      "cell_type": "code",
      "metadata": {
        "colab": {
          "base_uri": "https://localhost:8080/"
        },
        "id": "vKmr6cRKBuyg",
        "outputId": "a46b70f9-fe6b-4f0a-b027-7d1cd4e04560"
      },
      "source": [
        "mine['Mahindra']='Scorpio'\n",
        "mine"
      ],
      "execution_count": 18,
      "outputs": [
        {
          "output_type": "execute_result",
          "data": {
            "text/plain": [
              "{'Audi': 'RS5,Q5',\n",
              " 'BMW': 'M5',\n",
              " 'Ferrari': 'California',\n",
              " 'Kia': 'Stinger',\n",
              " 'Mahindra': 'Scorpio',\n",
              " 'Merc': 'C43AMG,GLC43AMG',\n",
              " 'Skoda': 'Kushaq',\n",
              " 'Volkswagen': 'T-roc',\n",
              " 'Volvo': 'XC60'}"
            ]
          },
          "metadata": {
            "tags": []
          },
          "execution_count": 18
        }
      ]
    },
    {
      "cell_type": "code",
      "metadata": {
        "colab": {
          "base_uri": "https://localhost:8080/"
        },
        "id": "ltgl81XLB2Av",
        "outputId": "b49aa89c-13d1-4efd-8f73-ef88944a050c"
      },
      "source": [
        "mine.pop('Mahindra')\n",
        "mine"
      ],
      "execution_count": 19,
      "outputs": [
        {
          "output_type": "execute_result",
          "data": {
            "text/plain": [
              "{'Audi': 'RS5,Q5',\n",
              " 'BMW': 'M5',\n",
              " 'Ferrari': 'California',\n",
              " 'Kia': 'Stinger',\n",
              " 'Merc': 'C43AMG,GLC43AMG',\n",
              " 'Skoda': 'Kushaq',\n",
              " 'Volkswagen': 'T-roc',\n",
              " 'Volvo': 'XC60'}"
            ]
          },
          "metadata": {
            "tags": []
          },
          "execution_count": 19
        }
      ]
    },
    {
      "cell_type": "code",
      "metadata": {
        "colab": {
          "base_uri": "https://localhost:8080/"
        },
        "id": "kiYdbTIrB_H5",
        "outputId": "05d64258-8f83-4673-b1a1-0e882108c258"
      },
      "source": [
        "mine['BMW'] = '530D'\n",
        "mine"
      ],
      "execution_count": 20,
      "outputs": [
        {
          "output_type": "execute_result",
          "data": {
            "text/plain": [
              "{'Audi': 'RS5,Q5',\n",
              " 'BMW': '530D',\n",
              " 'Ferrari': 'California',\n",
              " 'Kia': 'Stinger',\n",
              " 'Merc': 'C43AMG,GLC43AMG',\n",
              " 'Skoda': 'Kushaq',\n",
              " 'Volkswagen': 'T-roc',\n",
              " 'Volvo': 'XC60'}"
            ]
          },
          "metadata": {
            "tags": []
          },
          "execution_count": 20
        }
      ]
    },
    {
      "cell_type": "code",
      "metadata": {
        "id": "13aurx-FCZ7Y"
      },
      "source": [
        ""
      ],
      "execution_count": null,
      "outputs": []
    }
  ]
}
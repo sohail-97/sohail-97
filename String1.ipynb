{
  "nbformat": 4,
  "nbformat_minor": 0,
  "metadata": {
    "colab": {
      "name": "String1.ipynb",
      "provenance": [],
      "collapsed_sections": [],
      "mount_file_id": "1V6UWTVHj4RYST65iKjciVD4eBqPMeVoD",
      "authorship_tag": "ABX9TyMEVvrIPZCwUWSilIwvdyWq",
      "include_colab_link": true
    },
    "kernelspec": {
      "name": "python3",
      "display_name": "Python 3"
    },
    "language_info": {
      "name": "python"
    }
  },
  "cells": [
    {
      "cell_type": "markdown",
      "metadata": {
        "id": "view-in-github",
        "colab_type": "text"
      },
      "source": [
        "<a href=\"https://colab.research.google.com/github/sohail-97/sohail-97/blob/main/String1.ipynb\" target=\"_parent\"><img src=\"https://colab.research.google.com/assets/colab-badge.svg\" alt=\"Open In Colab\"/></a>"
      ]
    },
    {
      "cell_type": "code",
      "metadata": {
        "colab": {
          "base_uri": "https://localhost:8080/"
        },
        "id": "jKlDqUTjkM4b",
        "outputId": "7af1cc7b-1ef5-4530-fc78-03d53b6fa861"
      },
      "source": [
        "print(\"Whatsup boy?\")"
      ],
      "execution_count": null,
      "outputs": [
        {
          "output_type": "stream",
          "text": [
            "Whatsup boy?\n"
          ],
          "name": "stdout"
        }
      ]
    },
    {
      "cell_type": "code",
      "metadata": {
        "colab": {
          "base_uri": "https://localhost:8080/"
        },
        "id": "jp6xQVickQUP",
        "outputId": "81160934-5346-4ce7-d003-e167fd0ad7e0"
      },
      "source": [
        "import math\n",
        "math.log(234)"
      ],
      "execution_count": null,
      "outputs": [
        {
          "output_type": "execute_result",
          "data": {
            "text/plain": [
              "5.455321115357702"
            ]
          },
          "metadata": {
            "tags": []
          },
          "execution_count": 2
        }
      ]
    },
    {
      "cell_type": "code",
      "metadata": {
        "colab": {
          "base_uri": "https://localhost:8080/"
        },
        "id": "U3mCb4jPkppH",
        "outputId": "4d807bfa-c7fe-4e7d-b15e-41142fee2c5f"
      },
      "source": [
        "math.tan(45)"
      ],
      "execution_count": null,
      "outputs": [
        {
          "output_type": "execute_result",
          "data": {
            "text/plain": [
              "1.6197751905438615"
            ]
          },
          "metadata": {
            "tags": []
          },
          "execution_count": 3
        }
      ]
    },
    {
      "cell_type": "code",
      "metadata": {
        "colab": {
          "base_uri": "https://localhost:8080/",
          "height": 35
        },
        "id": "5rFBCczMqTCO",
        "outputId": "d6e2f159-57f3-4b90-dff7-6a252f788f5b"
      },
      "source": [
        "x = 'Helo world'\n",
        "x[0:4]"
      ],
      "execution_count": null,
      "outputs": [
        {
          "output_type": "execute_result",
          "data": {
            "application/vnd.google.colaboratory.intrinsic+json": {
              "type": "string"
            },
            "text/plain": [
              "'Helo'"
            ]
          },
          "metadata": {
            "tags": []
          },
          "execution_count": 4
        }
      ]
    },
    {
      "cell_type": "code",
      "metadata": {
        "id": "7PhyuQXWrayc",
        "colab": {
          "base_uri": "https://localhost:8080/"
        },
        "outputId": "a1bcd2bb-477e-4aca-d1eb-90d354394c9e"
      },
      "source": [
        "x = \"Hello world\"\n",
        "\"h\" in x"
      ],
      "execution_count": null,
      "outputs": [
        {
          "output_type": "execute_result",
          "data": {
            "text/plain": [
              "False"
            ]
          },
          "metadata": {
            "tags": []
          },
          "execution_count": 1
        }
      ]
    },
    {
      "cell_type": "code",
      "metadata": {
        "colab": {
          "base_uri": "https://localhost:8080/"
        },
        "id": "VTxOY36fxaUm",
        "outputId": "1805251e-505d-426e-87ee-59861c81fd16"
      },
      "source": [
        "\"H\" in x"
      ],
      "execution_count": null,
      "outputs": [
        {
          "output_type": "execute_result",
          "data": {
            "text/plain": [
              "True"
            ]
          },
          "metadata": {
            "tags": []
          },
          "execution_count": 2
        }
      ]
    },
    {
      "cell_type": "code",
      "metadata": {
        "colab": {
          "base_uri": "https://localhost:8080/"
        },
        "id": "gk7smUk5xl81",
        "outputId": "0159a096-2611-46ed-8faf-9da33bb6bce5"
      },
      "source": [
        "\"h\" not in x"
      ],
      "execution_count": null,
      "outputs": [
        {
          "output_type": "execute_result",
          "data": {
            "text/plain": [
              "True"
            ]
          },
          "metadata": {
            "tags": []
          },
          "execution_count": 3
        }
      ]
    },
    {
      "cell_type": "code",
      "metadata": {
        "colab": {
          "base_uri": "https://localhost:8080/"
        },
        "id": "9eH_wI6xxplK",
        "outputId": "7b2dd2cf-c2d9-45d8-fa8f-955001e34a60"
      },
      "source": [
        "\"h\" in x.lower()"
      ],
      "execution_count": null,
      "outputs": [
        {
          "output_type": "execute_result",
          "data": {
            "text/plain": [
              "True"
            ]
          },
          "metadata": {
            "tags": []
          },
          "execution_count": 4
        }
      ]
    },
    {
      "cell_type": "code",
      "metadata": {
        "id": "wMt_ThCOx11m",
        "colab": {
          "base_uri": "https://localhost:8080/"
        },
        "outputId": "e9f76645-bc8f-4f82-bb4f-fad530d3a14a"
      },
      "source": [
        "x = int(input(\"Enter the number\"))\n",
        "y = int(input(\"Enter the power\"))\n",
        "result = x**y\n",
        "\n",
        "if result%2==0:\n",
        "  print(\"Even\")\n",
        "\n",
        "else:\n",
        "  print(\"odd\")"
      ],
      "execution_count": 8,
      "outputs": [
        {
          "output_type": "stream",
          "text": [
            "Enter the number56\n",
            "Enter the power3\n",
            "Even\n"
          ],
          "name": "stdout"
        }
      ]
    },
    {
      "cell_type": "code",
      "metadata": {
        "colab": {
          "base_uri": "https://localhost:8080/"
        },
        "id": "crZNJwNp1iSg",
        "outputId": "7e4507df-8b1b-4b1d-c19e-67fa1807856b"
      },
      "source": [
        "Name = input(\"Enter the name\")\n",
        "Age = int(input(\"Enter the age\"))\n",
        "Marks= int(input(\"Enter the marks\"))\n",
        "\n",
        "if (Age>=17 and Age<=21 and Marks>=80):\n",
        "  print(Name,\"is eligible\")\n",
        "\n",
        "else:\n",
        "  print(Name,\"is not eligible\")"
      ],
      "execution_count": 9,
      "outputs": [
        {
          "output_type": "stream",
          "text": [
            "Enter the nameSohail\n",
            "Enter the age19\n",
            "Enter the marks89\n",
            "Sohail is eligible\n"
          ],
          "name": "stdout"
        }
      ]
    },
    {
      "cell_type": "code",
      "metadata": {
        "colab": {
          "base_uri": "https://localhost:8080/"
        },
        "id": "ZGyC2jII3am6",
        "outputId": "cdd0fa67-4acf-404a-a3bc-1364ecab84b5"
      },
      "source": [
        "x = input(\"Enter the character\")\n",
        "if x == x.upper():\n",
        "  print(\"Character is upper\")\n",
        "elif x == x.lower():\n",
        "  print(\"Character is lower\")\n",
        "\n",
        "else:\n",
        "  print(\"Invalid input\")"
      ],
      "execution_count": 21,
      "outputs": [
        {
          "output_type": "stream",
          "text": [
            "Enter the characterer\n",
            "Character is lower\n"
          ],
          "name": "stdout"
        }
      ]
    },
    {
      "cell_type": "code",
      "metadata": {
        "colab": {
          "base_uri": "https://localhost:8080/"
        },
        "id": "EASTP8iE4dhO",
        "outputId": "cb9f92ef-47cd-489b-ea5f-7eb5bf6dcb66"
      },
      "source": [
        "x = int(input(\"Enter the side vale\"))\n",
        "y = int(input(\"Enter the side vale\"))\n",
        "z = int(input(\"Enter the side vale\"))\n",
        "\n",
        "if (x==y and x==z):\n",
        "  print(\"Equilateral\")\n",
        "elif(x==y and x!=z):\n",
        "  print(\"Isosceles\")\n",
        "\n",
        "else:\n",
        "  print(\"Obtuse\")"
      ],
      "execution_count": 24,
      "outputs": [
        {
          "output_type": "stream",
          "text": [
            "Enter the side vale23\n",
            "Enter the side vale23\n",
            "Enter the side vale45\n",
            "Isosceles\n"
          ],
          "name": "stdout"
        }
      ]
    },
    {
      "cell_type": "code",
      "metadata": {
        "colab": {
          "base_uri": "https://localhost:8080/"
        },
        "id": "qD4ZCj6X7iB8",
        "outputId": "89b8000a-39a8-4d0d-dfd4-faceb313f11f"
      },
      "source": [
        "num = 0\n",
        "sum = 0\n",
        "while True:\n",
        "  val = input(\"Enter the value\")\n",
        "  if val == 'done':\n",
        "    break\n",
        "\n",
        "  try:\n",
        "    fval = float(val)\n",
        "  except:\n",
        "    print(\"Invalid input\")\n",
        "\n",
        "  num = num+1\n",
        "  sum = sum+fval\n",
        "print(num,sum,sum/num)\n"
      ],
      "execution_count": 5,
      "outputs": [
        {
          "output_type": "stream",
          "text": [
            "Enter the value4\n",
            "Enter the value5\n",
            "Enter the value6\n",
            "Enter the valuedone\n",
            "3 15.0 5.0\n"
          ],
          "name": "stdout"
        }
      ]
    },
    {
      "cell_type": "code",
      "metadata": {
        "colab": {
          "base_uri": "https://localhost:8080/"
        },
        "id": "13EdIr0vTsfV",
        "outputId": "474557d2-ebc4-4d65-d157-50f6e1bb21f0"
      },
      "source": [
        "i= 0\n",
        "while i<10:\n",
        "  i = i+1\n",
        "  print(\"Sohail is the best\")\n",
        "#it will take the value of i from 0 to 9 to see if the nos within 0-9 are <10 or not. If yes the condition is True and it will print 10 times(0-9)"
      ],
      "execution_count": 6,
      "outputs": [
        {
          "output_type": "stream",
          "text": [
            "Sohail is the best\n",
            "Sohail is the best\n",
            "Sohail is the best\n",
            "Sohail is the best\n",
            "Sohail is the best\n",
            "Sohail is the best\n",
            "Sohail is the best\n",
            "Sohail is the best\n",
            "Sohail is the best\n",
            "Sohail is the best\n"
          ],
          "name": "stdout"
        }
      ]
    },
    {
      "cell_type": "code",
      "metadata": {
        "colab": {
          "base_uri": "https://localhost:8080/"
        },
        "id": "T6zHL2D_UPnR",
        "outputId": "64f8da85-de0c-4982-8a8a-c9c394dbc531"
      },
      "source": [
        "count=0\n",
        "for i in range(6):\n",
        "  count=count+1\n",
        "  print(\"Sohail is still the best\")"
      ],
      "execution_count": 8,
      "outputs": [
        {
          "output_type": "stream",
          "text": [
            "Sohail is still the best\n",
            "Sohail is still the best\n",
            "Sohail is still the best\n",
            "Sohail is still the best\n",
            "Sohail is still the best\n",
            "Sohail is still the best\n"
          ],
          "name": "stdout"
        }
      ]
    },
    {
      "cell_type": "code",
      "metadata": {
        "colab": {
          "base_uri": "https://localhost:8080/"
        },
        "id": "BMPw_dcoXopN",
        "outputId": "1ce4430f-6ff1-4ed1-b7c6-56b81f8df306"
      },
      "source": [
        "count=0\n",
        "for i in range(10):\n",
        "  count=count+i\n",
        "  print(count)"
      ],
      "execution_count": 10,
      "outputs": [
        {
          "output_type": "stream",
          "text": [
            "0\n",
            "1\n",
            "3\n",
            "6\n",
            "10\n",
            "15\n",
            "21\n",
            "28\n",
            "36\n",
            "45\n"
          ],
          "name": "stdout"
        }
      ]
    },
    {
      "cell_type": "code",
      "metadata": {
        "colab": {
          "base_uri": "https://localhost:8080/"
        },
        "id": "_CiUXx-uYhyY",
        "outputId": "99722926-a2fc-4f0b-c922-0e0f901772dc"
      },
      "source": [
        "for i in range(10):\n",
        "  print(\"Well,he is the best yet again\")"
      ],
      "execution_count": 11,
      "outputs": [
        {
          "output_type": "stream",
          "text": [
            "Well,he is the best yet again\n",
            "Well,he is the best yet again\n",
            "Well,he is the best yet again\n",
            "Well,he is the best yet again\n",
            "Well,he is the best yet again\n",
            "Well,he is the best yet again\n",
            "Well,he is the best yet again\n",
            "Well,he is the best yet again\n",
            "Well,he is the best yet again\n",
            "Well,he is the best yet again\n"
          ],
          "name": "stdout"
        }
      ]
    },
    {
      "cell_type": "code",
      "metadata": {
        "colab": {
          "base_uri": "https://localhost:8080/"
        },
        "id": "xruVf3kcYqXb",
        "outputId": "770c4f38-4d14-46a3-fc4d-c4499f97ea3d"
      },
      "source": [
        "for i in range(10):\n",
        "  print(\"Guess who's the best? You guessed it right\",i)"
      ],
      "execution_count": 13,
      "outputs": [
        {
          "output_type": "stream",
          "text": [
            "Guess who's the best? You guessed it right 0\n",
            "Guess who's the best? You guessed it right 1\n",
            "Guess who's the best? You guessed it right 2\n",
            "Guess who's the best? You guessed it right 3\n",
            "Guess who's the best? You guessed it right 4\n",
            "Guess who's the best? You guessed it right 5\n",
            "Guess who's the best? You guessed it right 6\n",
            "Guess who's the best? You guessed it right 7\n",
            "Guess who's the best? You guessed it right 8\n",
            "Guess who's the best? You guessed it right 9\n"
          ],
          "name": "stdout"
        }
      ]
    },
    {
      "cell_type": "code",
      "metadata": {
        "colab": {
          "base_uri": "https://localhost:8080/"
        },
        "id": "4q_2mKO0ZzIL",
        "outputId": "3a073142-d885-4260-d6ca-79b320da4861"
      },
      "source": [
        "a = ['Sohail',23,46.4,'Hello']\n",
        "a.pop(1)\n",
        "print(a)"
      ],
      "execution_count": 15,
      "outputs": [
        {
          "output_type": "stream",
          "text": [
            "['Sohail', 46.4, 'Hello']\n"
          ],
          "name": "stdout"
        }
      ]
    },
    {
      "cell_type": "code",
      "metadata": {
        "colab": {
          "base_uri": "https://localhost:8080/"
        },
        "id": "ToWoLZdblHXC",
        "outputId": "b5328efc-2a15-438a-9ac4-6b0b4c157d08"
      },
      "source": [
        "a = ['Sohail',23,46.4,'Hello']\n",
        "a.remove(46.4)\n",
        "print(a)"
      ],
      "execution_count": 17,
      "outputs": [
        {
          "output_type": "stream",
          "text": [
            "['Sohail', 23, 'Hello']\n"
          ],
          "name": "stdout"
        }
      ]
    },
    {
      "cell_type": "code",
      "metadata": {
        "colab": {
          "base_uri": "https://localhost:8080/"
        },
        "id": "JASqrGd_lchU",
        "outputId": "7e0bf5d4-6f97-4ddb-de7e-f3ebead2b9f8"
      },
      "source": [
        "a = ['Sohail',23,46.4,'Hello']\n",
        "a.insert(1,\"stays alone\")\n",
        "print(a)"
      ],
      "execution_count": 18,
      "outputs": [
        {
          "output_type": "stream",
          "text": [
            "['Sohail', 'stays alone', 23, 46.4, 'Hello']\n"
          ],
          "name": "stdout"
        }
      ]
    },
    {
      "cell_type": "code",
      "metadata": {
        "colab": {
          "base_uri": "https://localhost:8080/"
        },
        "id": "j2Euc7BHmzu8",
        "outputId": "3c17797e-438e-4f91-eea9-b0366b1b5b75"
      },
      "source": [
        "a = ['Sohail', 'stays alone', 23, 46.4, 'Hello']\n",
        "a[2] = 'he is like that'\n",
        "\n",
        "print(a)"
      ],
      "execution_count": 20,
      "outputs": [
        {
          "output_type": "stream",
          "text": [
            "['Sohail', 'stays alone', 'he is like that', 46.4, 'Hello']\n"
          ],
          "name": "stdout"
        }
      ]
    },
    {
      "cell_type": "code",
      "metadata": {
        "colab": {
          "base_uri": "https://localhost:8080/"
        },
        "id": "dq_D-f8BnVdu",
        "outputId": "613a8069-afe6-4710-85fc-52c7fb15a9f5"
      },
      "source": [
        "a = ['Sohail', 'stays alone', 23, 46.4, 'Hello']\n",
        "b = a.copy()\n",
        "b.clear()\n",
        "print(b,a)"
      ],
      "execution_count": 23,
      "outputs": [
        {
          "output_type": "stream",
          "text": [
            "[] ['Sohail', 'stays alone', 23, 46.4, 'Hello']\n"
          ],
          "name": "stdout"
        }
      ]
    },
    {
      "cell_type": "code",
      "metadata": {
        "id": "Tqs2qM63pgnd"
      },
      "source": [
        ""
      ],
      "execution_count": null,
      "outputs": []
    }
  ]
}